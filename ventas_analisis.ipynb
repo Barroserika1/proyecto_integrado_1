{
 "cells": [
  {
   "cell_type": "markdown",
   "metadata": {},
   "source": [
    "# Análisis de Ventas de Tecnología\n",
    "\n",
    "Este notebook analiza los datos de ventas de productos tecnológicos durante el año 2023."
   ]
  },
  {
   "cell_type": "code",
   "execution_count": null,
   "metadata": {},
   "outputs": [],
   "source": [
    "# Importar librerías necesarias\n",
    "import pandas as pd\n",
    "import matplotlib.pyplot as plt\n",
    "import seaborn as sns"
   ]
  },
  {
   "cell_type": "code",
   "execution_count": null,
   "metadata": {},
   "outputs": [],
   "source": [
    "# Cargar datos\n",
    "# Reemplaza la URL con la de tu archivo raw en GitHub\n",
    "url = 'URL_DE_TU_ARCHIVO_CSV_EN_GITHUB'\n",
    "df = pd.read_csv(url)\n",
    "df.head()"
   ]
  },
  {
   "cell_type": "code",
   "execution_count": null,
   "metadata": {},
   "outputs": [],
   "source": [
    "# Crear gráfico de líneas para todas las categorías\n",
    "plt.figure(figsize=(15, 8))\n",
    "for columna in df.columns[1:]:  # Excluimos la columna 'Mes'\n",
    "    plt.plot(df['Mes'], df[columna], marker='o', label=columna)\n",
    "\n",
    "plt.title('Ventas de Productos Tecnológicos 2023')\n",
    "plt.xlabel('Mes')\n",
    "plt.ylabel('Unidades Vendidas')\n",
    "plt.xticks(rotation=45)\n",
    "plt.legend()\n",
    "plt.grid(True)\n",
    "plt.tight_layout()\n",
    "plt.show()"
   ]
  },
  {
   "cell_type": "markdown",
   "metadata": {},
   "source": [
    "## Espacio para análisis adicional del alumno\n",
    "\n",
    "En esta sección puedes agregar tu propio código para análisis adicionales."
   ]
  },
  {
   "cell_type": "code",
   "execution_count": null,
   "metadata": {},
   "outputs": [],
   "source": [
    "# Tu código aquí\n"
   ]
  }
 ],
 "metadata": {
  "kernelspec": {
   "display_name": "Python 3",
   "language": "python",
   "name": "python3"
  },
  "language_info": {
   "codemirror_mode": {
    "name": "ipython",
    "version": 3
   },
   "file_extension": ".py",
   "mimetype": "text/x-python",
   "name": "python",
   "nbconvert_exporter": "python",
   "pygments_lexer": "ipython3",
   "version": "3.8.0"
  }
 },
 "nbformat": 4,
 "nbformat_minor": 4
}
